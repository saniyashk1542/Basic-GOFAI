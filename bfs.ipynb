{
  "nbformat": 4,
  "nbformat_minor": 0,
  "metadata": {
    "colab": {
      "provenance": []
    },
    "kernelspec": {
      "name": "python3",
      "display_name": "Python 3"
    },
    "language_info": {
      "name": "python"
    }
  },
  "cells": [
    {
      "cell_type": "code",
      "execution_count": null,
      "metadata": {
        "id": "43uGtj2VzJH7"
      },
      "outputs": [],
      "source": [
        "from collections import deque"
      ]
    },
    {
      "cell_type": "code",
      "source": [
        "#define the graph / tree structure using an adjacency list\n",
        "graph={\n",
        "    'A':['B','C'],#node A connects to B and C\n",
        "    'B':['D','E'],#node B connects to D and E\n",
        "    'C':['F'],#node C connects to F\n",
        "    'D':[],\n",
        "    'E':[],\n",
        "    'F':[]\n",
        "}"
      ],
      "metadata": {
        "id": "PaMLMPXAzQ_i"
      },
      "execution_count": null,
      "outputs": []
    },
    {
      "cell_type": "code",
      "source": [
        "def bfs(graph, start_node):\n",
        "  \"\"\" performs bfs search on graph from given node \"\"\"\n",
        "  visited = set()# to keep track of visited node\n",
        "  queue = deque([start_node])\n",
        "  print(\"BFS traversal order:\")\n",
        "  while queue:\n",
        "    current_node = queue.popleft()\n",
        "    if current_node not in visited:\n",
        "      print(current_node,end=\" \")\n",
        "      visited.add(current_node)\n",
        "      for neighbor in graph[current_node]:\n",
        "        if neighbor not in visited:\n",
        "          queue.append(neighbor)"
      ],
      "metadata": {
        "id": "yj7Y13D00XMR"
      },
      "execution_count": null,
      "outputs": []
    },
    {
      "cell_type": "code",
      "source": [
        "bfs(graph,'A')"
      ],
      "metadata": {
        "colab": {
          "base_uri": "https://localhost:8080/"
        },
        "id": "7WwiokJv106i",
        "outputId": "70123a6e-e6cf-41d5-adb3-5a6f83893111"
      },
      "execution_count": null,
      "outputs": [
        {
          "output_type": "stream",
          "name": "stdout",
          "text": [
            "BFS traversal order:\n",
            "A B C D E F "
          ]
        }
      ]
    },
    {
      "cell_type": "code",
      "source": [
        "bfs(graph,'B')"
      ],
      "metadata": {
        "colab": {
          "base_uri": "https://localhost:8080/"
        },
        "id": "gzqWPXeS17xg",
        "outputId": "f8b6de34-64b5-4564-cbac-1b34ae764d92"
      },
      "execution_count": null,
      "outputs": [
        {
          "output_type": "stream",
          "name": "stdout",
          "text": [
            "BFS traversal order:\n",
            "B D E "
          ]
        }
      ]
    },
    {
      "cell_type": "code",
      "source": [
        "bfs(graph ,'D')"
      ],
      "metadata": {
        "colab": {
          "base_uri": "https://localhost:8080/"
        },
        "id": "rzEOFDEe2Szg",
        "outputId": "583eed0f-871a-4658-c90b-7ae669496cdf"
      },
      "execution_count": null,
      "outputs": [
        {
          "output_type": "stream",
          "name": "stdout",
          "text": [
            "BFS traversal order:\n",
            "D "
          ]
        }
      ]
    },
    {
      "cell_type": "code",
      "source": [],
      "metadata": {
        "id": "_0F59Y-v2Yxn"
      },
      "execution_count": null,
      "outputs": []
    }
  ]
}