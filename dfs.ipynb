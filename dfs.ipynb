{
  "nbformat": 4,
  "nbformat_minor": 0,
  "metadata": {
    "colab": {
      "provenance": []
    },
    "kernelspec": {
      "name": "python3",
      "display_name": "Python 3"
    },
    "language_info": {
      "name": "python"
    }
  },
  "cells": [
    {
      "cell_type": "code",
      "execution_count": null,
      "metadata": {
        "id": "6-vQA2jc3IUj"
      },
      "outputs": [],
      "source": [
        "#define the graph / tree structure using an adjacency list\n",
        "graph={\n",
        "    'A':['B','C'],#node A connects to B and C\n",
        "    'B':['D','E'],#node B connects to D and E\n",
        "    'C':['F'],#node C connects to F\n",
        "    'D':[],\n",
        "    'E':[],\n",
        "    'F':[]\n",
        "}"
      ]
    },
    {
      "cell_type": "code",
      "source": [
        "def dfs_using_stack(graph,start_node):\n",
        "  \"\"\"perform dfs using explicit stack\"\"\"\n",
        "  stack =[start_node]#initialize the stack with the start node\n",
        "  visited = set()\n",
        "  while stack:\n",
        "    #loop until the stack is empty\n",
        "    current_node = stack.pop()\n",
        "\n",
        "    if current_node not in visited :\n",
        "      print(current_node,end=\" \")# process the node (print it )\n",
        "      visited.add(current_node)#mark it as visited\n",
        "      #add neigbors to stack in reverse order to ensure correct dfs traveral\n",
        "      for neigbor in reversed (graph[current_node]):\n",
        "        if neigbor not in visited:\n",
        "          stack.append(neigbor)\n"
      ],
      "metadata": {
        "id": "SwHjvcXX3LTY"
      },
      "execution_count": null,
      "outputs": []
    },
    {
      "cell_type": "code",
      "source": [
        "print(\"DFS traversal order(using stack):\")\n",
        "dfs_using_stack(graph,'A')"
      ],
      "metadata": {
        "colab": {
          "base_uri": "https://localhost:8080/"
        },
        "id": "_LzDge6E5OBc",
        "outputId": "a9045b03-7b2c-4eac-e91a-f56708342bec"
      },
      "execution_count": null,
      "outputs": [
        {
          "output_type": "stream",
          "name": "stdout",
          "text": [
            "DFS traversal order(using stack):\n",
            "A B D E C F "
          ]
        }
      ]
    },
    {
      "cell_type": "code",
      "source": [],
      "metadata": {
        "id": "hjFowO025gjw"
      },
      "execution_count": null,
      "outputs": []
    }
  ]
}