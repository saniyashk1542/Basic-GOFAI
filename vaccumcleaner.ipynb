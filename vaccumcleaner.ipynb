{
  "nbformat": 4,
  "nbformat_minor": 0,
  "metadata": {
    "colab": {
      "provenance": []
    },
    "kernelspec": {
      "name": "python3",
      "display_name": "Python 3"
    },
    "language_info": {
      "name": "python"
    }
  },
  "cells": [
    {
      "cell_type": "code",
      "execution_count": 1,
      "metadata": {
        "id": "mKah0rjEqrYT"
      },
      "outputs": [],
      "source": [
        "import random"
      ]
    },
    {
      "cell_type": "code",
      "source": [
        "  def display(room):\n",
        "    print(room)"
      ],
      "metadata": {
        "id": "B1zOucU7r5NI"
      },
      "execution_count": null,
      "outputs": []
    },
    {
      "cell_type": "code",
      "source": [
        "room=[[1,1,1,1],[1,1,1,1],[1,1,1,1],[1,1,1,1]]\n",
        "print(\"All the rooms are dirty\")\n",
        "display(room)"
      ],
      "metadata": {
        "colab": {
          "base_uri": "https://localhost:8080/"
        },
        "id": "c0jCJZu8r_5t",
        "outputId": "17841f88-2b17-4f16-e5ba-d1392350e954"
      },
      "execution_count": null,
      "outputs": [
        {
          "output_type": "stream",
          "name": "stdout",
          "text": [
            "All the rooms are dirty\n",
            "[[1, 1, 1, 1], [1, 1, 1, 1], [1, 1, 1, 1], [1, 1, 1, 1]]\n"
          ]
        }
      ]
    },
    {
      "cell_type": "code",
      "source": [
        "x=0\n",
        "y=0"
      ],
      "metadata": {
        "id": "SSDZ-evWsh2H"
      },
      "execution_count": null,
      "outputs": []
    },
    {
      "cell_type": "code",
      "source": [
        "while x<4:\n",
        "  while y<4:\n",
        "    room[x][y]=random.choice([0,1])\n",
        "    y+=1\n",
        "  x+=1\n",
        "  y=0"
      ],
      "metadata": {
        "id": "glvflUFjsn9t"
      },
      "execution_count": null,
      "outputs": []
    },
    {
      "cell_type": "code",
      "source": [
        "print(\"before cleaning room ,I detect all of these random dirts\")\n",
        "display(room)"
      ],
      "metadata": {
        "colab": {
          "base_uri": "https://localhost:8080/"
        },
        "id": "R_ki4HtDs7nO",
        "outputId": "4b856b12-f563-436d-b96b-17c96fda9b87"
      },
      "execution_count": null,
      "outputs": [
        {
          "output_type": "stream",
          "name": "stdout",
          "text": [
            "before cleaning room ,I detect all of these random dirts\n",
            "[[1, 0, 0, 0], [1, 1, 1, 1], [0, 0, 0, 0], [0, 0, 1, 0]]\n"
          ]
        }
      ]
    },
    {
      "cell_type": "code",
      "source": [
        "x=0\n",
        "y=0\n",
        "z=0"
      ],
      "metadata": {
        "id": "xsMJ62Nytdv1"
      },
      "execution_count": null,
      "outputs": []
    },
    {
      "cell_type": "code",
      "source": [
        "#clean the room\n",
        "while x<4:\n",
        "  while y<4:\n",
        "    if room[x][y]==1:\n",
        "      print(\"vaccum in this location now:\",x,y)\n",
        "      room[x][y]=0\n",
        "      print(\"Cleaned:\",x,y)\n",
        "      z+=1\n",
        "    y+=1\n",
        "  x+=1\n",
        "  y=0"
      ],
      "metadata": {
        "colab": {
          "base_uri": "https://localhost:8080/"
        },
        "id": "22DcnMuvtkL2",
        "outputId": "805c673b-cc14-4ea6-f8a3-823e66b17196"
      },
      "execution_count": null,
      "outputs": [
        {
          "output_type": "stream",
          "name": "stdout",
          "text": [
            "vaccum in this location now: 0 0\n",
            "Cleaned: 0 0\n",
            "vaccum in this location now: 1 0\n",
            "Cleaned: 1 0\n",
            "vaccum in this location now: 1 1\n",
            "Cleaned: 1 1\n",
            "vaccum in this location now: 1 2\n",
            "Cleaned: 1 2\n",
            "vaccum in this location now: 1 3\n",
            "Cleaned: 1 3\n",
            "vaccum in this location now: 3 2\n",
            "Cleaned: 3 2\n"
          ]
        }
      ]
    },
    {
      "cell_type": "code",
      "source": [
        "#calculate performance percentage\n",
        "performance =(100-((z/16)*100))\n",
        "print(\"Room is clean now.Thanks for using robot vaccum Cleaner!\")\n",
        "display(room)\n",
        "print(\"performance=\",performance,\"%\")"
      ],
      "metadata": {
        "colab": {
          "base_uri": "https://localhost:8080/"
        },
        "id": "xfNPFtALuQdX",
        "outputId": "88d38791-9d14-4852-9455-4e50d00066ab"
      },
      "execution_count": null,
      "outputs": [
        {
          "output_type": "stream",
          "name": "stdout",
          "text": [
            "Room is clean now.Thanks for using robot vaccum Cleaner!\n",
            "[[0, 0, 0, 0], [0, 0, 0, 0], [0, 0, 0, 0], [0, 0, 0, 0]]\n",
            "performance= 62.5 %\n"
          ]
        }
      ]
    },
    {
      "cell_type": "code",
      "source": [
        "print(z)"
      ],
      "metadata": {
        "colab": {
          "base_uri": "https://localhost:8080/"
        },
        "id": "hm1Prl9gvB7n",
        "outputId": "9b6fcee2-7c8c-44be-d124-cc1c1acb907a"
      },
      "execution_count": null,
      "outputs": [
        {
          "output_type": "stream",
          "name": "stdout",
          "text": [
            "6\n"
          ]
        }
      ]
    },
    {
      "cell_type": "code",
      "source": [],
      "metadata": {
        "id": "-BUtOTQkxwu-"
      },
      "execution_count": null,
      "outputs": []
    }
  ]
}